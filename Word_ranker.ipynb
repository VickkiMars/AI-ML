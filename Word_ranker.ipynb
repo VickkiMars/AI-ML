{
  "nbformat": 4,
  "nbformat_minor": 0,
  "metadata": {
    "colab": {
      "provenance": [],
      "authorship_tag": "ABX9TyPTbyjO9ylhIkWY5SJ2NzcA",
      "include_colab_link": true
    },
    "kernelspec": {
      "name": "python3",
      "display_name": "Python 3"
    },
    "language_info": {
      "name": "python"
    }
  },
  "cells": [
    {
      "cell_type": "markdown",
      "metadata": {
        "id": "view-in-github",
        "colab_type": "text"
      },
      "source": [
        "<a href=\"https://colab.research.google.com/github/VickkiMars/AI-ML/blob/main/Word_ranker.ipynb\" target=\"_parent\"><img src=\"https://colab.research.google.com/assets/colab-badge.svg\" alt=\"Open In Colab\"/></a>"
      ]
    },
    {
      "cell_type": "code",
      "execution_count": 1,
      "metadata": {
        "id": "W6KLmtxoD_aU"
      },
      "outputs": [],
      "source": [
        "import tensorflow as tf\n",
        "import numpy as np"
      ]
    },
    {
      "cell_type": "code",
      "source": [
        "# Sample data\n",
        "words = [\"clean\", \"dirty\", \"tidy\", \"messy\", \"organized\"]\n",
        "scores = [10, 0, 8, 2, 9]\n",
        "\n",
        "# Create a word-to-index mapping\n",
        "word_to_index = {word: index for index, word in enumerate(words)}\n",
        "\n",
        "# Convert words and scores to numerical data\n",
        "indexed_words = [word_to_index[word] for word in words]\n",
        "indexed_scores = np.array(scores)"
      ],
      "metadata": {
        "id": "zI2Uql4wEpdZ"
      },
      "execution_count": 2,
      "outputs": []
    },
    {
      "cell_type": "code",
      "source": [
        "indexed_words = np.array(indexed_words)"
      ],
      "metadata": {
        "id": "kC6HaBC5FnMJ"
      },
      "execution_count": 5,
      "outputs": []
    },
    {
      "cell_type": "code",
      "source": [
        "model = tf.keras.models.Sequential([\n",
        "  tf.keras.layers.Embedding(len(word_to_index), 16, input_length=1),\n",
        "  tf.keras.layers.Reshape((1, 16)),\n",
        "  tf.keras.layers.GlobalAveragePooling1D(),\n",
        "  tf.keras.layers.Dense(16, activation='relu'),\n",
        "  tf.keras.layers.Dense(1)\n",
        "])\n",
        "\n",
        "model.compile(optimizer='adam', loss='mse', metrics=['mae'])"
      ],
      "metadata": {
        "colab": {
          "base_uri": "https://localhost:8080/"
        },
        "id": "jhsacEgiFN_W",
        "outputId": "2930c0a3-0ada-44cb-dd1e-ab5be2809255"
      },
      "execution_count": 10,
      "outputs": [
        {
          "output_type": "stream",
          "name": "stderr",
          "text": [
            "/usr/local/lib/python3.10/dist-packages/keras/src/layers/core/embedding.py:90: UserWarning: Argument `input_length` is deprecated. Just remove it.\n",
            "  warnings.warn(\n"
          ]
        }
      ]
    },
    {
      "cell_type": "code",
      "source": [
        "model.fit(indexed_words, indexed_scores, epochs=100, verbose=0)"
      ],
      "metadata": {
        "colab": {
          "base_uri": "https://localhost:8080/"
        },
        "id": "kf_UaCWTFPAy",
        "outputId": "b476c043-80ec-4f73-d812-bc259c4fa86b"
      },
      "execution_count": 11,
      "outputs": [
        {
          "output_type": "execute_result",
          "data": {
            "text/plain": [
              "<keras.src.callbacks.history.History at 0x7accb6012aa0>"
            ]
          },
          "metadata": {},
          "execution_count": 11
        }
      ]
    },
    {
      "cell_type": "code",
      "source": [
        "def predict_score(word):\n",
        "    \"\"\"Predicts the score of a word.\"\"\"\n",
        "    try:\n",
        "        index = np.array(word_to_index[word])\n",
        "        index = index.reshape(1, 1)\n",
        "        score = model.predict(index)\n",
        "        return score[0][0]\n",
        "    except KeyError:\n",
        "        return \"Word not in vocabulary\"\n",
        "\n",
        "# Test with some words\n",
        "print(f\"Score for 'clean': {predict_score('clean')}\")\n",
        "print(f\"Score for 'dirty': {predict_score('dirty')}\")\n",
        "print(f\"Score for 'tidy': {predict_score('tidy')}\")\n",
        "print(f\"Score for 'messy': {predict_score('messy')}\")\n",
        "print(f\"Score for 'organized': {predict_score('organized')}\")"
      ],
      "metadata": {
        "colab": {
          "base_uri": "https://localhost:8080/"
        },
        "id": "UI8aULSXFRIy",
        "outputId": "a54f1726-ad55-40f5-978e-e3e62439d16d"
      },
      "execution_count": 14,
      "outputs": [
        {
          "output_type": "stream",
          "name": "stdout",
          "text": [
            "\u001b[1m1/1\u001b[0m \u001b[32m━━━━━━━━━━━━━━━━━━━━\u001b[0m\u001b[37m\u001b[0m \u001b[1m0s\u001b[0m 94ms/step\n",
            "Score for 'clean': 2.182856559753418\n",
            "\u001b[1m1/1\u001b[0m \u001b[32m━━━━━━━━━━━━━━━━━━━━\u001b[0m\u001b[37m\u001b[0m \u001b[1m0s\u001b[0m 28ms/step\n",
            "Score for 'dirty': 0.007100656628608704\n",
            "\u001b[1m1/1\u001b[0m \u001b[32m━━━━━━━━━━━━━━━━━━━━\u001b[0m\u001b[37m\u001b[0m \u001b[1m0s\u001b[0m 31ms/step\n",
            "Score for 'tidy': 2.4740617275238037\n",
            "\u001b[1m1/1\u001b[0m \u001b[32m━━━━━━━━━━━━━━━━━━━━\u001b[0m\u001b[37m\u001b[0m \u001b[1m0s\u001b[0m 36ms/step\n",
            "Score for 'messy': 2.048707962036133\n",
            "\u001b[1m1/1\u001b[0m \u001b[32m━━━━━━━━━━━━━━━━━━━━\u001b[0m\u001b[37m\u001b[0m \u001b[1m0s\u001b[0m 33ms/step\n",
            "Score for 'organized': 2.185807228088379\n"
          ]
        }
      ]
    },
    {
      "cell_type": "code",
      "source": [],
      "metadata": {
        "id": "oRqjjgY9GFLZ"
      },
      "execution_count": null,
      "outputs": []
    }
  ]
}